{
  "nbformat": 4,
  "nbformat_minor": 0,
  "metadata": {
    "colab": {
      "provenance": []
    },
    "kernelspec": {
      "name": "python3",
      "display_name": "Python 3"
    },
    "language_info": {
      "name": "python"
    }
  },
  "cells": [
    {
      "cell_type": "code",
      "execution_count": null,
      "metadata": {
        "id": "9Ji9FDboxFYj"
      },
      "outputs": [],
      "source": [
        "import string\n",
        "import random\n",
        "class URLShortener:\n",
        "    def __init__(self):\n",
        "        self.short_to_long = {}\n",
        "        self.long_to_short = {}\n",
        "        self.short_length = 7\n",
        "        self.chars = string.ascii_letters + string.digits\n",
        "    def shorten_url(self, long_url):\n",
        "        if long_url in self.long_to_short:\n",
        "            return self.long_to_short[long_url]\n",
        "        else:\n",
        "            short_url = self.generate_short_url()\n",
        "            self.long_to_short[long_url] = short_url\n",
        "            self.short_to_long[short_url] = long_url\n",
        "            return short_url\n",
        "    def expand_url(self, short_url):\n",
        "        return self.short_to_long.get(short_url, None)\n",
        "    def generate_short_url(self):\n",
        "        short_url = ''.join(random.choice(self.chars) for _ in range(self.short_length))\n",
        "        while short_url in self.short_to_long:\n",
        "            short_url = ''.join(random.choice(self.chars) for _ in range(self.short_length))\n",
        "        return short_url\n",
        "shortener = URLShortener()\n",
        "long_url = input(\"Enter the long URL to shorten: \")\n",
        "short_url = shortener.shorten_url(long_url)\n",
        "print(\"Shortened URL: \", short_url)\n",
        "short_url = input(\"Enter the short URL to expand: \")\n",
        "long_url = shortener.expand_url(short_url)\n",
        "print(\"Expanded URL: \", long_url)\n"
      ]
    }
  ]
}